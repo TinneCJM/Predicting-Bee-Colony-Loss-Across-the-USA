{
 "cells": [
  {
   "cell_type": "markdown",
   "id": "e8b9a9e5",
   "metadata": {},
   "source": [
    "<div style=\"background-color:#FCE205; padding:10px; border-radius:5px; color:black; font-weight:bold;\">\n",
    "    <h2>Combining the bees data with the drought and weather data</h2>\n",
    "</div>"
   ]
  },
  {
   "cell_type": "code",
   "execution_count": 14,
   "id": "5836107a",
   "metadata": {},
   "outputs": [],
   "source": [
    "# import libraries\n",
    "import os\n",
    "import pandas as pd"
   ]
  },
  {
   "cell_type": "code",
   "execution_count": 15,
   "id": "1a3dc01d",
   "metadata": {},
   "outputs": [],
   "source": [
    "# # set working directory\n",
    "ITM_DIR = os.path.join(os.getcwd(), '../data/intermediate')"
   ]
  },
  {
   "cell_type": "code",
   "execution_count": 16,
   "id": "d46c4705",
   "metadata": {},
   "outputs": [],
   "source": [
    "# import datasets to combine\n",
    "\n",
    "drought = pd.read_csv(os.path.join(ITM_DIR, 'drought_quarterly.csv'))\n",
    "weather = pd.read_csv(os.path.join(ITM_DIR, 'quarterly_weather_summary.csv'))\n",
    "bees = pd.read_csv(os.path.join(ITM_DIR, 'bees.csv'))"
   ]
  },
  {
   "cell_type": "code",
   "execution_count": 17,
   "id": "be06fd4e",
   "metadata": {},
   "outputs": [],
   "source": [
    "# combine datasets to the weather dataset on state, year and quarter\n",
    "df = weather.merge(drought, how='left', on=['state', 'year', 'quarter'])\n",
    "bees_full = df.merge(bees, how='left', on=['state', 'year', 'quarter'])"
   ]
  },
  {
   "cell_type": "markdown",
   "id": "e13d586d",
   "metadata": {},
   "source": [
    "<div style=\"background-color:#FCE205; padding:10px; border-radius:5px; color:black; font-weight:bold;\">\n",
    "    <h3>Check for missing data</h3>\n",
    "</div>"
   ]
  },
  {
   "cell_type": "code",
   "execution_count": 19,
   "id": "ef28ac94",
   "metadata": {},
   "outputs": [
    {
     "data": {
      "text/plain": [
       "{'Alaska', 'Delaware', 'Nevada', 'New Hampshire', 'Rhode Island'}"
      ]
     },
     "execution_count": 19,
     "metadata": {},
     "output_type": "execute_result"
    }
   ],
   "source": [
    "# which states are in weather but not in the bees dataset?\n",
    "weather_states = weather.state.unique()\n",
    "bees_states = bees.state.unique()\n",
    "missing_states = set(weather_states) - set(bees_states)\n",
    "missing_states"
   ]
  },
  {
   "cell_type": "code",
   "execution_count": 20,
   "id": "e450350a",
   "metadata": {},
   "outputs": [],
   "source": [
    "# remove rows where state information is not available in the bees dataset\n",
    "bees_full = bees_full[~bees_full['state'].isin(missing_states)]"
   ]
  },
  {
   "cell_type": "code",
   "execution_count": 21,
   "id": "22894287",
   "metadata": {},
   "outputs": [
    {
     "data": {
      "text/plain": [
       "other_or_unknown                 94\n",
       "renovated_colonies               94\n",
       "state_code                       94\n",
       "max_colonies                     94\n",
       "lost_colonies                    94\n",
       "percent_lost                     94\n",
       "added_colonies                   94\n",
       "num_colonies                     94\n",
       "percent_renovated                94\n",
       "other_pests_and_parasites        94\n",
       "diseases                         94\n",
       "pesticides                       94\n",
       "varroa_mites                     94\n",
       "D4_mean                           0\n",
       "D0_mean                           0\n",
       "D1_mean                           0\n",
       "D2_mean                           0\n",
       "D3_mean                           0\n",
       "D2_max                            0\n",
       "D0_max                            0\n",
       "D1_max                            0\n",
       "D3_max                            0\n",
       "D4_max                            0\n",
       "moderate_snow_sum                 0\n",
       "year                              0\n",
       "state                             0\n",
       "latitude                          0\n",
       "relative_humidity_2m_minmin       0\n",
       "longitude                         0\n",
       "quarter                           0\n",
       "temperature_2m_meanmean           0\n",
       "temperature_2m_meansum            0\n",
       "relative_humidity_2m_meanmean     0\n",
       "relative_humidity_2m_meansum      0\n",
       "wind_speed_10m_maxmax             0\n",
       "temperature_2m_maxmax             0\n",
       "relative_humidity_2m_maxmax       0\n",
       "temperature_2m_minmin             0\n",
       "precipitation_hours_sum           0\n",
       "light_snow_sum                    0\n",
       "moderate_drizzle_sum              0\n",
       "moderate_rain_sum                 0\n",
       "light_rain_sum                    0\n",
       "heavy_rain_sum                    0\n",
       "overcast_sum                      0\n",
       "partly_cloudy_sum                 0\n",
       "clear_sky_sum                     0\n",
       "light_drizzle_sum                 0\n",
       "mainly_clear_sum                  0\n",
       "heavy_drizzle_sum                 0\n",
       "dtype: int64"
      ]
     },
     "execution_count": 21,
     "metadata": {},
     "output_type": "execute_result"
    }
   ],
   "source": [
    "bees_full.isna().sum().sort_values(ascending=False).head(50)"
   ]
  },
  {
   "cell_type": "code",
   "execution_count": 22,
   "id": "66683393",
   "metadata": {},
   "outputs": [
    {
     "data": {
      "application/vnd.microsoft.datawrangler.viewer.v0+json": {
       "columns": [
        {
         "name": "index",
         "rawType": "int64",
         "type": "integer"
        },
        {
         "name": "state",
         "rawType": "object",
         "type": "string"
        },
        {
         "name": "year",
         "rawType": "int64",
         "type": "integer"
        },
        {
         "name": "quarter",
         "rawType": "int64",
         "type": "integer"
        }
       ],
       "conversionMethod": "pd.DataFrame",
       "ref": "3a3cf32f-91c3-4a14-9f6b-7a48c05a4cf9",
       "rows": [
        [
         "0",
         "Alabama",
         "2019",
         "2"
        ],
        [
         "1",
         "Alabama",
         "2023",
         "1"
        ],
        [
         "2",
         "Arizona",
         "2019",
         "2"
        ],
        [
         "3",
         "Arizona",
         "2023",
         "1"
        ],
        [
         "4",
         "Arkansas",
         "2019",
         "2"
        ],
        [
         "5",
         "Arkansas",
         "2023",
         "1"
        ],
        [
         "6",
         "California",
         "2019",
         "2"
        ],
        [
         "7",
         "California",
         "2023",
         "1"
        ],
        [
         "8",
         "Colorado",
         "2019",
         "2"
        ],
        [
         "9",
         "Colorado",
         "2023",
         "1"
        ],
        [
         "10",
         "Connecticut",
         "2019",
         "2"
        ],
        [
         "11",
         "Connecticut",
         "2023",
         "1"
        ],
        [
         "12",
         "Florida",
         "2019",
         "2"
        ],
        [
         "13",
         "Florida",
         "2023",
         "1"
        ],
        [
         "14",
         "Georgia",
         "2019",
         "2"
        ],
        [
         "15",
         "Georgia",
         "2023",
         "1"
        ],
        [
         "16",
         "Hawaii",
         "2019",
         "2"
        ],
        [
         "17",
         "Hawaii",
         "2022",
         "1"
        ],
        [
         "18",
         "Hawaii",
         "2022",
         "2"
        ],
        [
         "19",
         "Hawaii",
         "2022",
         "3"
        ],
        [
         "20",
         "Hawaii",
         "2022",
         "4"
        ],
        [
         "21",
         "Hawaii",
         "2023",
         "1"
        ],
        [
         "22",
         "Idaho",
         "2019",
         "2"
        ],
        [
         "23",
         "Idaho",
         "2023",
         "1"
        ],
        [
         "24",
         "Illinois",
         "2019",
         "2"
        ],
        [
         "25",
         "Illinois",
         "2023",
         "1"
        ],
        [
         "26",
         "Indiana",
         "2019",
         "2"
        ],
        [
         "27",
         "Indiana",
         "2023",
         "1"
        ],
        [
         "28",
         "Iowa",
         "2019",
         "2"
        ],
        [
         "29",
         "Iowa",
         "2023",
         "1"
        ],
        [
         "30",
         "Kansas",
         "2019",
         "2"
        ],
        [
         "31",
         "Kansas",
         "2023",
         "1"
        ],
        [
         "32",
         "Kentucky",
         "2019",
         "2"
        ],
        [
         "33",
         "Kentucky",
         "2023",
         "1"
        ],
        [
         "34",
         "Louisiana",
         "2019",
         "2"
        ],
        [
         "35",
         "Louisiana",
         "2023",
         "1"
        ],
        [
         "36",
         "Maine",
         "2019",
         "2"
        ],
        [
         "37",
         "Maine",
         "2023",
         "1"
        ],
        [
         "38",
         "Maryland",
         "2019",
         "2"
        ],
        [
         "39",
         "Maryland",
         "2023",
         "1"
        ],
        [
         "40",
         "Massachusetts",
         "2019",
         "2"
        ],
        [
         "41",
         "Massachusetts",
         "2023",
         "1"
        ],
        [
         "42",
         "Michigan",
         "2019",
         "2"
        ],
        [
         "43",
         "Michigan",
         "2023",
         "1"
        ],
        [
         "44",
         "Minnesota",
         "2019",
         "2"
        ],
        [
         "45",
         "Minnesota",
         "2023",
         "1"
        ],
        [
         "46",
         "Mississippi",
         "2019",
         "2"
        ],
        [
         "47",
         "Mississippi",
         "2023",
         "1"
        ],
        [
         "48",
         "Missouri",
         "2019",
         "2"
        ],
        [
         "49",
         "Missouri",
         "2023",
         "1"
        ]
       ],
       "shape": {
        "columns": 3,
        "rows": 94
       }
      },
      "text/html": [
       "<div>\n",
       "<style scoped>\n",
       "    .dataframe tbody tr th:only-of-type {\n",
       "        vertical-align: middle;\n",
       "    }\n",
       "\n",
       "    .dataframe tbody tr th {\n",
       "        vertical-align: top;\n",
       "    }\n",
       "\n",
       "    .dataframe thead th {\n",
       "        text-align: right;\n",
       "    }\n",
       "</style>\n",
       "<table border=\"1\" class=\"dataframe\">\n",
       "  <thead>\n",
       "    <tr style=\"text-align: right;\">\n",
       "      <th></th>\n",
       "      <th>state</th>\n",
       "      <th>year</th>\n",
       "      <th>quarter</th>\n",
       "    </tr>\n",
       "  </thead>\n",
       "  <tbody>\n",
       "    <tr>\n",
       "      <th>0</th>\n",
       "      <td>Alabama</td>\n",
       "      <td>2019</td>\n",
       "      <td>2</td>\n",
       "    </tr>\n",
       "    <tr>\n",
       "      <th>1</th>\n",
       "      <td>Alabama</td>\n",
       "      <td>2023</td>\n",
       "      <td>1</td>\n",
       "    </tr>\n",
       "    <tr>\n",
       "      <th>2</th>\n",
       "      <td>Arizona</td>\n",
       "      <td>2019</td>\n",
       "      <td>2</td>\n",
       "    </tr>\n",
       "    <tr>\n",
       "      <th>3</th>\n",
       "      <td>Arizona</td>\n",
       "      <td>2023</td>\n",
       "      <td>1</td>\n",
       "    </tr>\n",
       "    <tr>\n",
       "      <th>4</th>\n",
       "      <td>Arkansas</td>\n",
       "      <td>2019</td>\n",
       "      <td>2</td>\n",
       "    </tr>\n",
       "    <tr>\n",
       "      <th>...</th>\n",
       "      <td>...</td>\n",
       "      <td>...</td>\n",
       "      <td>...</td>\n",
       "    </tr>\n",
       "    <tr>\n",
       "      <th>89</th>\n",
       "      <td>West Virginia</td>\n",
       "      <td>2023</td>\n",
       "      <td>1</td>\n",
       "    </tr>\n",
       "    <tr>\n",
       "      <th>90</th>\n",
       "      <td>Wisconsin</td>\n",
       "      <td>2019</td>\n",
       "      <td>2</td>\n",
       "    </tr>\n",
       "    <tr>\n",
       "      <th>91</th>\n",
       "      <td>Wisconsin</td>\n",
       "      <td>2023</td>\n",
       "      <td>1</td>\n",
       "    </tr>\n",
       "    <tr>\n",
       "      <th>92</th>\n",
       "      <td>Wyoming</td>\n",
       "      <td>2019</td>\n",
       "      <td>2</td>\n",
       "    </tr>\n",
       "    <tr>\n",
       "      <th>93</th>\n",
       "      <td>Wyoming</td>\n",
       "      <td>2023</td>\n",
       "      <td>1</td>\n",
       "    </tr>\n",
       "  </tbody>\n",
       "</table>\n",
       "<p>94 rows × 3 columns</p>\n",
       "</div>"
      ],
      "text/plain": [
       "            state  year  quarter\n",
       "0         Alabama  2019        2\n",
       "1         Alabama  2023        1\n",
       "2         Arizona  2019        2\n",
       "3         Arizona  2023        1\n",
       "4        Arkansas  2019        2\n",
       "..            ...   ...      ...\n",
       "89  West Virginia  2023        1\n",
       "90      Wisconsin  2019        2\n",
       "91      Wisconsin  2023        1\n",
       "92        Wyoming  2019        2\n",
       "93        Wyoming  2023        1\n",
       "\n",
       "[94 rows x 3 columns]"
      ]
     },
     "execution_count": 22,
     "metadata": {},
     "output_type": "execute_result"
    }
   ],
   "source": [
    "# check for which years and quarters data is missing \n",
    "missing = bees_full[bees_full.isna().any(axis=1)]\n",
    "missing = missing[['state', 'year', 'quarter']].drop_duplicates()\n",
    "missing = missing.sort_values(by=['state', 'year', 'quarter']).reset_index(drop=True)\n",
    "missing"
   ]
  },
  {
   "cell_type": "markdown",
   "id": "cea90078",
   "metadata": {},
   "source": [
    "Upon inspection, the missing data is for 2023 quarter 1, 2019 quarter 2 for all states and Hawaii 2022 for all quarters. \n",
    "(45 states * 2 = 90, 90 + 4 (Hawaii) = 94 missing values, which checks out)\n",
    "\n",
    "2023 is not available in the original bees dataset and must have crossed over from the weather data.\n",
    "\n",
    "quarter 2 from 2019 missing information may be troublesome for further analysis."
   ]
  },
  {
   "cell_type": "code",
   "execution_count": 24,
   "id": "18856791",
   "metadata": {},
   "outputs": [],
   "source": [
    "# Drop rows with missing values except for year = 2019 and quarter = 2\n",
    "bees_full = bees_full[~(bees_full.isna().any(axis=1) & ~((bees_full['year'] == 2019) & (bees_full['quarter'] == 2)))]"
   ]
  },
  {
   "cell_type": "code",
   "execution_count": 25,
   "id": "7d8e9378",
   "metadata": {},
   "outputs": [
    {
     "data": {
      "text/plain": [
       "other_or_unknown                 45\n",
       "renovated_colonies               45\n",
       "state_code                       45\n",
       "max_colonies                     45\n",
       "lost_colonies                    45\n",
       "percent_lost                     45\n",
       "added_colonies                   45\n",
       "num_colonies                     45\n",
       "percent_renovated                45\n",
       "other_pests_and_parasites        45\n",
       "diseases                         45\n",
       "pesticides                       45\n",
       "varroa_mites                     45\n",
       "D4_mean                           0\n",
       "D0_mean                           0\n",
       "D1_mean                           0\n",
       "D2_mean                           0\n",
       "D3_mean                           0\n",
       "D2_max                            0\n",
       "D0_max                            0\n",
       "D1_max                            0\n",
       "D3_max                            0\n",
       "D4_max                            0\n",
       "moderate_snow_sum                 0\n",
       "year                              0\n",
       "state                             0\n",
       "latitude                          0\n",
       "relative_humidity_2m_minmin       0\n",
       "longitude                         0\n",
       "quarter                           0\n",
       "temperature_2m_meanmean           0\n",
       "temperature_2m_meansum            0\n",
       "relative_humidity_2m_meanmean     0\n",
       "relative_humidity_2m_meansum      0\n",
       "wind_speed_10m_maxmax             0\n",
       "temperature_2m_maxmax             0\n",
       "relative_humidity_2m_maxmax       0\n",
       "temperature_2m_minmin             0\n",
       "precipitation_hours_sum           0\n",
       "light_snow_sum                    0\n",
       "moderate_drizzle_sum              0\n",
       "moderate_rain_sum                 0\n",
       "light_rain_sum                    0\n",
       "heavy_rain_sum                    0\n",
       "overcast_sum                      0\n",
       "partly_cloudy_sum                 0\n",
       "clear_sky_sum                     0\n",
       "light_drizzle_sum                 0\n",
       "mainly_clear_sum                  0\n",
       "heavy_drizzle_sum                 0\n",
       "dtype: int64"
      ]
     },
     "execution_count": 25,
     "metadata": {},
     "output_type": "execute_result"
    }
   ],
   "source": [
    "bees_full.isna().sum().sort_values(ascending=False).head(50)"
   ]
  },
  {
   "cell_type": "code",
   "execution_count": 26,
   "id": "0bd8a3fb",
   "metadata": {},
   "outputs": [
    {
     "data": {
      "application/vnd.microsoft.datawrangler.viewer.v0+json": {
       "columns": [
        {
         "name": "index",
         "rawType": "int64",
         "type": "integer"
        },
        {
         "name": "state",
         "rawType": "object",
         "type": "string"
        },
        {
         "name": "year",
         "rawType": "int64",
         "type": "integer"
        },
        {
         "name": "quarter",
         "rawType": "int64",
         "type": "integer"
        }
       ],
       "conversionMethod": "pd.DataFrame",
       "ref": "1eebe1da-c6a5-4962-bcc7-4c144152cb36",
       "rows": [
        [
         "0",
         "Alabama",
         "2019",
         "2"
        ],
        [
         "1",
         "Arizona",
         "2019",
         "2"
        ],
        [
         "2",
         "Arkansas",
         "2019",
         "2"
        ],
        [
         "3",
         "California",
         "2019",
         "2"
        ],
        [
         "4",
         "Colorado",
         "2019",
         "2"
        ],
        [
         "5",
         "Connecticut",
         "2019",
         "2"
        ],
        [
         "6",
         "Florida",
         "2019",
         "2"
        ],
        [
         "7",
         "Georgia",
         "2019",
         "2"
        ],
        [
         "8",
         "Hawaii",
         "2019",
         "2"
        ],
        [
         "9",
         "Idaho",
         "2019",
         "2"
        ],
        [
         "10",
         "Illinois",
         "2019",
         "2"
        ],
        [
         "11",
         "Indiana",
         "2019",
         "2"
        ],
        [
         "12",
         "Iowa",
         "2019",
         "2"
        ],
        [
         "13",
         "Kansas",
         "2019",
         "2"
        ],
        [
         "14",
         "Kentucky",
         "2019",
         "2"
        ],
        [
         "15",
         "Louisiana",
         "2019",
         "2"
        ],
        [
         "16",
         "Maine",
         "2019",
         "2"
        ],
        [
         "17",
         "Maryland",
         "2019",
         "2"
        ],
        [
         "18",
         "Massachusetts",
         "2019",
         "2"
        ],
        [
         "19",
         "Michigan",
         "2019",
         "2"
        ],
        [
         "20",
         "Minnesota",
         "2019",
         "2"
        ],
        [
         "21",
         "Mississippi",
         "2019",
         "2"
        ],
        [
         "22",
         "Missouri",
         "2019",
         "2"
        ],
        [
         "23",
         "Montana",
         "2019",
         "2"
        ],
        [
         "24",
         "Nebraska",
         "2019",
         "2"
        ],
        [
         "25",
         "New Jersey",
         "2019",
         "2"
        ],
        [
         "26",
         "New Mexico",
         "2019",
         "2"
        ],
        [
         "27",
         "New York",
         "2019",
         "2"
        ],
        [
         "28",
         "North Carolina",
         "2019",
         "2"
        ],
        [
         "29",
         "North Dakota",
         "2019",
         "2"
        ],
        [
         "30",
         "Ohio",
         "2019",
         "2"
        ],
        [
         "31",
         "Oklahoma",
         "2019",
         "2"
        ],
        [
         "32",
         "Oregon",
         "2019",
         "2"
        ],
        [
         "33",
         "Pennsylvania",
         "2019",
         "2"
        ],
        [
         "34",
         "South Carolina",
         "2019",
         "2"
        ],
        [
         "35",
         "South Dakota",
         "2019",
         "2"
        ],
        [
         "36",
         "Tennessee",
         "2019",
         "2"
        ],
        [
         "37",
         "Texas",
         "2019",
         "2"
        ],
        [
         "38",
         "Utah",
         "2019",
         "2"
        ],
        [
         "39",
         "Vermont",
         "2019",
         "2"
        ],
        [
         "40",
         "Virginia",
         "2019",
         "2"
        ],
        [
         "41",
         "Washington",
         "2019",
         "2"
        ],
        [
         "42",
         "West Virginia",
         "2019",
         "2"
        ],
        [
         "43",
         "Wisconsin",
         "2019",
         "2"
        ],
        [
         "44",
         "Wyoming",
         "2019",
         "2"
        ]
       ],
       "shape": {
        "columns": 3,
        "rows": 45
       }
      },
      "text/html": [
       "<div>\n",
       "<style scoped>\n",
       "    .dataframe tbody tr th:only-of-type {\n",
       "        vertical-align: middle;\n",
       "    }\n",
       "\n",
       "    .dataframe tbody tr th {\n",
       "        vertical-align: top;\n",
       "    }\n",
       "\n",
       "    .dataframe thead th {\n",
       "        text-align: right;\n",
       "    }\n",
       "</style>\n",
       "<table border=\"1\" class=\"dataframe\">\n",
       "  <thead>\n",
       "    <tr style=\"text-align: right;\">\n",
       "      <th></th>\n",
       "      <th>state</th>\n",
       "      <th>year</th>\n",
       "      <th>quarter</th>\n",
       "    </tr>\n",
       "  </thead>\n",
       "  <tbody>\n",
       "    <tr>\n",
       "      <th>0</th>\n",
       "      <td>Alabama</td>\n",
       "      <td>2019</td>\n",
       "      <td>2</td>\n",
       "    </tr>\n",
       "    <tr>\n",
       "      <th>1</th>\n",
       "      <td>Arizona</td>\n",
       "      <td>2019</td>\n",
       "      <td>2</td>\n",
       "    </tr>\n",
       "    <tr>\n",
       "      <th>2</th>\n",
       "      <td>Arkansas</td>\n",
       "      <td>2019</td>\n",
       "      <td>2</td>\n",
       "    </tr>\n",
       "    <tr>\n",
       "      <th>3</th>\n",
       "      <td>California</td>\n",
       "      <td>2019</td>\n",
       "      <td>2</td>\n",
       "    </tr>\n",
       "    <tr>\n",
       "      <th>4</th>\n",
       "      <td>Colorado</td>\n",
       "      <td>2019</td>\n",
       "      <td>2</td>\n",
       "    </tr>\n",
       "    <tr>\n",
       "      <th>5</th>\n",
       "      <td>Connecticut</td>\n",
       "      <td>2019</td>\n",
       "      <td>2</td>\n",
       "    </tr>\n",
       "    <tr>\n",
       "      <th>6</th>\n",
       "      <td>Florida</td>\n",
       "      <td>2019</td>\n",
       "      <td>2</td>\n",
       "    </tr>\n",
       "    <tr>\n",
       "      <th>7</th>\n",
       "      <td>Georgia</td>\n",
       "      <td>2019</td>\n",
       "      <td>2</td>\n",
       "    </tr>\n",
       "    <tr>\n",
       "      <th>8</th>\n",
       "      <td>Hawaii</td>\n",
       "      <td>2019</td>\n",
       "      <td>2</td>\n",
       "    </tr>\n",
       "    <tr>\n",
       "      <th>9</th>\n",
       "      <td>Idaho</td>\n",
       "      <td>2019</td>\n",
       "      <td>2</td>\n",
       "    </tr>\n",
       "    <tr>\n",
       "      <th>10</th>\n",
       "      <td>Illinois</td>\n",
       "      <td>2019</td>\n",
       "      <td>2</td>\n",
       "    </tr>\n",
       "    <tr>\n",
       "      <th>11</th>\n",
       "      <td>Indiana</td>\n",
       "      <td>2019</td>\n",
       "      <td>2</td>\n",
       "    </tr>\n",
       "    <tr>\n",
       "      <th>12</th>\n",
       "      <td>Iowa</td>\n",
       "      <td>2019</td>\n",
       "      <td>2</td>\n",
       "    </tr>\n",
       "    <tr>\n",
       "      <th>13</th>\n",
       "      <td>Kansas</td>\n",
       "      <td>2019</td>\n",
       "      <td>2</td>\n",
       "    </tr>\n",
       "    <tr>\n",
       "      <th>14</th>\n",
       "      <td>Kentucky</td>\n",
       "      <td>2019</td>\n",
       "      <td>2</td>\n",
       "    </tr>\n",
       "    <tr>\n",
       "      <th>15</th>\n",
       "      <td>Louisiana</td>\n",
       "      <td>2019</td>\n",
       "      <td>2</td>\n",
       "    </tr>\n",
       "    <tr>\n",
       "      <th>16</th>\n",
       "      <td>Maine</td>\n",
       "      <td>2019</td>\n",
       "      <td>2</td>\n",
       "    </tr>\n",
       "    <tr>\n",
       "      <th>17</th>\n",
       "      <td>Maryland</td>\n",
       "      <td>2019</td>\n",
       "      <td>2</td>\n",
       "    </tr>\n",
       "    <tr>\n",
       "      <th>18</th>\n",
       "      <td>Massachusetts</td>\n",
       "      <td>2019</td>\n",
       "      <td>2</td>\n",
       "    </tr>\n",
       "    <tr>\n",
       "      <th>19</th>\n",
       "      <td>Michigan</td>\n",
       "      <td>2019</td>\n",
       "      <td>2</td>\n",
       "    </tr>\n",
       "    <tr>\n",
       "      <th>20</th>\n",
       "      <td>Minnesota</td>\n",
       "      <td>2019</td>\n",
       "      <td>2</td>\n",
       "    </tr>\n",
       "    <tr>\n",
       "      <th>21</th>\n",
       "      <td>Mississippi</td>\n",
       "      <td>2019</td>\n",
       "      <td>2</td>\n",
       "    </tr>\n",
       "    <tr>\n",
       "      <th>22</th>\n",
       "      <td>Missouri</td>\n",
       "      <td>2019</td>\n",
       "      <td>2</td>\n",
       "    </tr>\n",
       "    <tr>\n",
       "      <th>23</th>\n",
       "      <td>Montana</td>\n",
       "      <td>2019</td>\n",
       "      <td>2</td>\n",
       "    </tr>\n",
       "    <tr>\n",
       "      <th>24</th>\n",
       "      <td>Nebraska</td>\n",
       "      <td>2019</td>\n",
       "      <td>2</td>\n",
       "    </tr>\n",
       "    <tr>\n",
       "      <th>25</th>\n",
       "      <td>New Jersey</td>\n",
       "      <td>2019</td>\n",
       "      <td>2</td>\n",
       "    </tr>\n",
       "    <tr>\n",
       "      <th>26</th>\n",
       "      <td>New Mexico</td>\n",
       "      <td>2019</td>\n",
       "      <td>2</td>\n",
       "    </tr>\n",
       "    <tr>\n",
       "      <th>27</th>\n",
       "      <td>New York</td>\n",
       "      <td>2019</td>\n",
       "      <td>2</td>\n",
       "    </tr>\n",
       "    <tr>\n",
       "      <th>28</th>\n",
       "      <td>North Carolina</td>\n",
       "      <td>2019</td>\n",
       "      <td>2</td>\n",
       "    </tr>\n",
       "    <tr>\n",
       "      <th>29</th>\n",
       "      <td>North Dakota</td>\n",
       "      <td>2019</td>\n",
       "      <td>2</td>\n",
       "    </tr>\n",
       "    <tr>\n",
       "      <th>30</th>\n",
       "      <td>Ohio</td>\n",
       "      <td>2019</td>\n",
       "      <td>2</td>\n",
       "    </tr>\n",
       "    <tr>\n",
       "      <th>31</th>\n",
       "      <td>Oklahoma</td>\n",
       "      <td>2019</td>\n",
       "      <td>2</td>\n",
       "    </tr>\n",
       "    <tr>\n",
       "      <th>32</th>\n",
       "      <td>Oregon</td>\n",
       "      <td>2019</td>\n",
       "      <td>2</td>\n",
       "    </tr>\n",
       "    <tr>\n",
       "      <th>33</th>\n",
       "      <td>Pennsylvania</td>\n",
       "      <td>2019</td>\n",
       "      <td>2</td>\n",
       "    </tr>\n",
       "    <tr>\n",
       "      <th>34</th>\n",
       "      <td>South Carolina</td>\n",
       "      <td>2019</td>\n",
       "      <td>2</td>\n",
       "    </tr>\n",
       "    <tr>\n",
       "      <th>35</th>\n",
       "      <td>South Dakota</td>\n",
       "      <td>2019</td>\n",
       "      <td>2</td>\n",
       "    </tr>\n",
       "    <tr>\n",
       "      <th>36</th>\n",
       "      <td>Tennessee</td>\n",
       "      <td>2019</td>\n",
       "      <td>2</td>\n",
       "    </tr>\n",
       "    <tr>\n",
       "      <th>37</th>\n",
       "      <td>Texas</td>\n",
       "      <td>2019</td>\n",
       "      <td>2</td>\n",
       "    </tr>\n",
       "    <tr>\n",
       "      <th>38</th>\n",
       "      <td>Utah</td>\n",
       "      <td>2019</td>\n",
       "      <td>2</td>\n",
       "    </tr>\n",
       "    <tr>\n",
       "      <th>39</th>\n",
       "      <td>Vermont</td>\n",
       "      <td>2019</td>\n",
       "      <td>2</td>\n",
       "    </tr>\n",
       "    <tr>\n",
       "      <th>40</th>\n",
       "      <td>Virginia</td>\n",
       "      <td>2019</td>\n",
       "      <td>2</td>\n",
       "    </tr>\n",
       "    <tr>\n",
       "      <th>41</th>\n",
       "      <td>Washington</td>\n",
       "      <td>2019</td>\n",
       "      <td>2</td>\n",
       "    </tr>\n",
       "    <tr>\n",
       "      <th>42</th>\n",
       "      <td>West Virginia</td>\n",
       "      <td>2019</td>\n",
       "      <td>2</td>\n",
       "    </tr>\n",
       "    <tr>\n",
       "      <th>43</th>\n",
       "      <td>Wisconsin</td>\n",
       "      <td>2019</td>\n",
       "      <td>2</td>\n",
       "    </tr>\n",
       "    <tr>\n",
       "      <th>44</th>\n",
       "      <td>Wyoming</td>\n",
       "      <td>2019</td>\n",
       "      <td>2</td>\n",
       "    </tr>\n",
       "  </tbody>\n",
       "</table>\n",
       "</div>"
      ],
      "text/plain": [
       "             state  year  quarter\n",
       "0          Alabama  2019        2\n",
       "1          Arizona  2019        2\n",
       "2         Arkansas  2019        2\n",
       "3       California  2019        2\n",
       "4         Colorado  2019        2\n",
       "5      Connecticut  2019        2\n",
       "6          Florida  2019        2\n",
       "7          Georgia  2019        2\n",
       "8           Hawaii  2019        2\n",
       "9            Idaho  2019        2\n",
       "10        Illinois  2019        2\n",
       "11         Indiana  2019        2\n",
       "12            Iowa  2019        2\n",
       "13          Kansas  2019        2\n",
       "14        Kentucky  2019        2\n",
       "15       Louisiana  2019        2\n",
       "16           Maine  2019        2\n",
       "17        Maryland  2019        2\n",
       "18   Massachusetts  2019        2\n",
       "19        Michigan  2019        2\n",
       "20       Minnesota  2019        2\n",
       "21     Mississippi  2019        2\n",
       "22        Missouri  2019        2\n",
       "23         Montana  2019        2\n",
       "24        Nebraska  2019        2\n",
       "25      New Jersey  2019        2\n",
       "26      New Mexico  2019        2\n",
       "27        New York  2019        2\n",
       "28  North Carolina  2019        2\n",
       "29    North Dakota  2019        2\n",
       "30            Ohio  2019        2\n",
       "31        Oklahoma  2019        2\n",
       "32          Oregon  2019        2\n",
       "33    Pennsylvania  2019        2\n",
       "34  South Carolina  2019        2\n",
       "35    South Dakota  2019        2\n",
       "36       Tennessee  2019        2\n",
       "37           Texas  2019        2\n",
       "38            Utah  2019        2\n",
       "39         Vermont  2019        2\n",
       "40        Virginia  2019        2\n",
       "41      Washington  2019        2\n",
       "42   West Virginia  2019        2\n",
       "43       Wisconsin  2019        2\n",
       "44         Wyoming  2019        2"
      ]
     },
     "execution_count": 26,
     "metadata": {},
     "output_type": "execute_result"
    }
   ],
   "source": [
    "# validate that the missing values are indeed for year = 2019 and quarter = 2\n",
    "missing = bees_full[bees_full.isna().any(axis=1)]\n",
    "missing = missing[['state', 'year', 'quarter']].drop_duplicates()\n",
    "missing = missing.sort_values(by=['state', 'year', 'quarter']).reset_index(drop=True)\n",
    "missing"
   ]
  },
  {
   "cell_type": "code",
   "execution_count": 14,
   "id": "edc18af4",
   "metadata": {},
   "outputs": [],
   "source": [
    "# save csv file\n",
    "OUT_DIR = os.path.join(os.getcwd(), '../data/cleaned')\n",
    "\n",
    "bees_full.to_csv(os.path.join(OUT_DIR, 'bees_full_cleaned.csv'), index=False)"
   ]
  }
 ],
 "metadata": {
  "kernelspec": {
   "display_name": "base",
   "language": "python",
   "name": "python3"
  },
  "language_info": {
   "codemirror_mode": {
    "name": "ipython",
    "version": 3
   },
   "file_extension": ".py",
   "mimetype": "text/x-python",
   "name": "python",
   "nbconvert_exporter": "python",
   "pygments_lexer": "ipython3",
   "version": "3.11.7"
  }
 },
 "nbformat": 4,
 "nbformat_minor": 5
}
