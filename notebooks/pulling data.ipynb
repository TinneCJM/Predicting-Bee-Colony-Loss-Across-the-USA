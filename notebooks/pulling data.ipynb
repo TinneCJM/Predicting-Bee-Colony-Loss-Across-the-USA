{
 "cells": [
  {
   "cell_type": "code",
   "execution_count": 4,
   "metadata": {},
   "outputs": [],
   "source": [
    "import requests\n",
    "import pandas as pd"
   ]
  },
  {
   "cell_type": "code",
   "execution_count": 5,
   "metadata": {},
   "outputs": [
    {
     "name": "stdout",
     "output_type": "stream",
     "text": [
      "Error: 503, <div style=\"display: block; margin: auto;  width: 600px; height: 500px; text-align: center; font-family: 'Courier', cursive, sans-serif;\"><h1 style=\"color: 747474\">:( Application Error</h1><p style=\"color:#666\">If you are the application administrator, you can access the <a style=\"color: grey\"href=\"https://va-dmz-quickstats.scm.va-dmz-asev3.appserviceenvironment.us/detectors\">diagnostic resources</a>.</div>\n",
      "\n"
     ]
    }
   ],
   "source": [
    "# Replace with your API key\n",
    "API_KEY = \"B75EB4AF-99EE-329D-8F98-9C8F80BBC7E0\"\n",
    "\n",
    "# Base URL for the NASS API\n",
    "BASE_URL = \"https://quickstats.nass.usda.gov/api/api_GET/\"\n",
    "\n",
    "# Define parameters for the API request\n",
    "params = {\n",
    "    \"key\": API_KEY,\n",
    "    \"commodity_desc\": \"AG LAND\",  # Example: Corn\n",
    "    \"year__GE\": \"2015\",        # Data from 2020 onwards\n",
    "    \"short_desc\": \"AG LAND - ACRES\",    # Example: Corn\n",
    "    # \"state_alpha\": \"IA\",       # Example: Iowa\n",
    "    \"format\": \"JSON\"           # Response format\n",
    "}\n",
    "\n",
    "# Make the API request\n",
    "response = requests.get(BASE_URL, params=params)\n",
    "\n",
    "# Check if the request was successful\n",
    "if response.status_code == 200:\n",
    "    data = response.json()\n",
    "    # Convert the data to a pandas DataFrame\n",
    "    df = pd.DataFrame(data['data'])\n",
    "    print(df.head())  # Display the first few rows of the data\n",
    "else:\n",
    "    print(f\"Error: {response.status_code}, {response.text}\")"
   ]
  },
  {
   "cell_type": "code",
   "execution_count": null,
   "metadata": {},
   "outputs": [],
   "source": [
    "# save df to csv with title 'HONEY, BEE COLONIES - ADDED & REPLACED, MEASURED IN COLONIES.csv'\n",
    "df.to_csv('../data/import/BERRY TOTALS - ACRES BEARING.csv', index=False)"
   ]
  },
  {
   "cell_type": "code",
   "execution_count": 3,
   "metadata": {},
   "outputs": [
    {
     "ename": "NameError",
     "evalue": "name 'df' is not defined",
     "output_type": "error",
     "traceback": [
      "\u001b[1;31m---------------------------------------------------------------------------\u001b[0m",
      "\u001b[1;31mNameError\u001b[0m                                 Traceback (most recent call last)",
      "Cell \u001b[1;32mIn[3], line 1\u001b[0m\n\u001b[1;32m----> 1\u001b[0m df\n",
      "\u001b[1;31mNameError\u001b[0m: name 'df' is not defined"
     ]
    }
   ],
   "source": [
    "df"
   ]
  }
 ],
 "metadata": {
  "kernelspec": {
   "display_name": "base",
   "language": "python",
   "name": "python3"
  },
  "language_info": {
   "codemirror_mode": {
    "name": "ipython",
    "version": 3
   },
   "file_extension": ".py",
   "mimetype": "text/x-python",
   "name": "python",
   "nbconvert_exporter": "python",
   "pygments_lexer": "ipython3",
   "version": "3.11.7"
  }
 },
 "nbformat": 4,
 "nbformat_minor": 2
}
