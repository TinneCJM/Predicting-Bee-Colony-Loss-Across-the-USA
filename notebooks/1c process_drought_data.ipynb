{
 "cells": [
  {
   "cell_type": "markdown",
   "id": "ce280278",
   "metadata": {},
   "source": [
    "<div style=\"background-color:#FCE205; padding:10px; border-radius:5px; color:black; font-weight:bold;\">\n",
    "    <h2>Collecting US Drought Data Data</h2>\n",
    "</div>\n",
    "\n",
    "\n",
    "The US drought data was collected from the National Integrated Drought Information System (NIDIS) through https://www.drought.gov/historical-information?dataset=0&selectedDateUSDM=20250408. \n",
    "\n",
    "The U.S. Drought Monitor (USDM) is a map that is updated each Thursday to show the location and intensity of drought across the USA. It uses a five-category system, labeled Abnormally Dry or D0, (a precursor to drought, not actually drought), and Moderate (D1), Severe (D2), Extreme (D3) and Exceptional (D4) Drought. Drought categories show experts’ assessments of conditions related to dryness and drought including observations of how much water is available in streams, lakes, and soils compared to usual for the same time of year.\n",
    "\n",
    "The bee dataset has quarterly data. The drought index is collected weekly and will have to be aggregated to quarterly data. "
   ]
  },
  {
   "cell_type": "code",
   "execution_count": 1,
   "id": "9c187394",
   "metadata": {},
   "outputs": [],
   "source": [
    "# import libraries\n",
    "import pandas as pd\n",
    "import os"
   ]
  },
  {
   "cell_type": "code",
   "execution_count": 2,
   "id": "659e0ecf",
   "metadata": {},
   "outputs": [],
   "source": [
    "# set working directory\n",
    "ITM_DIR = os.path.join(os.getcwd(), '../data/import')"
   ]
  },
  {
   "cell_type": "code",
   "execution_count": 3,
   "id": "8a5f0f1e",
   "metadata": {},
   "outputs": [],
   "source": [
    "# read in the data\n",
    "drought = pd.read_csv(os.path.join(ITM_DIR, 'Drought index.csv'))"
   ]
  },
  {
   "cell_type": "markdown",
   "id": "3d6fa8fb",
   "metadata": {},
   "source": [
    "## Drought index\n",
    "\n",
    "- D0 - Total percent land area affected by **Abnormally Dry** conditions per week.\n",
    "- D1 - Total percent land area affected by **Moderate Drought** conditions per week.\n",
    "- D2 - Total percent land area affected by **Severe Drought** conditions per week.\n",
    "- D3 - Total percent land area affected by **Extreme Drought** conditions per week.\n",
    "- D4 - Total percent land area affected by **Exceptional Drought** conditions per week."
   ]
  },
  {
   "cell_type": "code",
   "execution_count": 5,
   "id": "d84d67f3",
   "metadata": {},
   "outputs": [],
   "source": [
    "# read in the data\n",
    "drought = pd.read_csv(os.path.join(ITM_DIR, 'Drought index.csv'))\n",
    "\n",
    "# the data appears to be missing a lot of pennsylvania data\n",
    "# so it was downloaded from the USGS website seperately\n",
    "# and added to the drought data\n",
    "\n",
    "penn = pd.read_csv(os.path.join(ITM_DIR, 'USDM-Pennsylvania.csv'))\n",
    "\n",
    "# rename drought columns from penn to match drought data\n",
    "penn_rename = {'D0': 'D0 (total percent land area)',\n",
    "                'D1': 'D1 (total percent land area)',\n",
    "                'D2': 'D2 (total percent land area)',\n",
    "                'D3': 'D3 (total percent land area)',\n",
    "                'D4': 'D4 (total percent land area)'}                              \n",
    "penn.rename(columns=penn_rename, inplace=True)\n",
    "\n",
    "# vertically concatenate the two dataframes\n",
    "drought = pd.concat([drought, penn], axis=0)"
   ]
  },
  {
   "cell_type": "code",
   "execution_count": 8,
   "id": "6557a748",
   "metadata": {},
   "outputs": [],
   "source": [
    "# Create a mapping of state abbreviations to full state names\n",
    "state_abbreviation_to_name = {\n",
    "    \"AL\": \"Alabama\", \"AK\": \"Alaska\", \"AZ\": \"Arizona\", \"AR\": \"Arkansas\", \"CA\": \"California\",\n",
    "    \"CO\": \"Colorado\", \"CT\": \"Connecticut\", \"DE\": \"Delaware\", \"FL\": \"Florida\", \"GA\": \"Georgia\",\n",
    "    \"HI\": \"Hawaii\", \"ID\": \"Idaho\", \"IL\": \"Illinois\", \"IN\": \"Indiana\", \"IA\": \"Iowa\",\n",
    "    \"KS\": \"Kansas\", \"KY\": \"Kentucky\", \"LA\": \"Louisiana\", \"ME\": \"Maine\", \"MD\": \"Maryland\",\n",
    "    \"MA\": \"Massachusetts\", \"MI\": \"Michigan\", \"MN\": \"Minnesota\", \"MS\": \"Mississippi\", \"MO\": \"Missouri\",\n",
    "    \"MT\": \"Montana\", \"NE\": \"Nebraska\", \"NV\": \"Nevada\", \"NH\": \"New Hampshire\", \"NJ\": \"New Jersey\",\n",
    "    \"NM\": \"New Mexico\", \"NY\": \"New York\", \"NC\": \"North Carolina\", \"ND\": \"North Dakota\", \"OH\": \"Ohio\",\n",
    "    \"OK\": \"Oklahoma\", \"OR\": \"Oregon\", \"PA\": \"Pennsylvania\", \"RI\": \"Rhode Island\", \"SC\": \"South Carolina\",\n",
    "    \"SD\": \"South Dakota\", \"TN\": \"Tennessee\", \"TX\": \"Texas\", \"UT\": \"Utah\", \"VT\": \"Vermont\",\n",
    "    \"VA\": \"Virginia\", \"WA\": \"Washington\", \"WV\": \"West Virginia\", \"WI\": \"Wisconsin\", \"WY\": \"Wyoming\"\n",
    "}\n",
    "\n",
    "# map the state abbreviations to full names\n",
    "drought['StateName'] = drought['StateAbbreviation'].map(state_abbreviation_to_name)\n",
    "\n",
    "# Drop the 'StateAbbreviation' column\n",
    "drought.drop(columns=['StateAbbreviation'], inplace=True)"
   ]
  },
  {
   "cell_type": "markdown",
   "id": "775bb995",
   "metadata": {},
   "source": [
    "<div style=\"background-color:#FCE205; padding:10px; border-radius:5px; color:black; font-weight:bold;\">\n",
    "    <h3>Aggregating Drought Data</h3>\n",
    "</div>\n",
    "\n",
    "A mean and max percent land area affected is calculated across the quarter."
   ]
  },
  {
   "cell_type": "markdown",
   "id": "51ed6ab9",
   "metadata": {},
   "source": [
    "#### _mean: Mean % area per quarter\n",
    "For seeing how widespread a drought level was on average during the quarter.\n",
    "\n",
    "\n",
    "#### _max: Max % area per quarter\n",
    "To catch peak drought severity."
   ]
  },
  {
   "cell_type": "code",
   "execution_count": 9,
   "id": "ccba9c4d",
   "metadata": {},
   "outputs": [],
   "source": [
    "drought['ValidStart'] = pd.to_datetime(drought['ValidStart'])\n",
    "drought['year'] = drought['ValidStart'].dt.year\n",
    "drought['quarter'] = drought['ValidStart'].dt.quarter\n",
    "\n",
    "# Drought severity columns\n",
    "drought_cols = ['D0 (total percent land area)', 'D1 (total percent land area)', 'D2 (total percent land area)', 'D3 (total percent land area)', 'D4 (total percent land area)']\n",
    "\n",
    "# 1. Mean\n",
    "df_mean = drought.groupby(['StateName', 'year', 'quarter'])[drought_cols].mean()\n",
    "df_mean.columns = [col + '_mean' for col in df_mean.columns]\n",
    "\n",
    "# 2. Max\n",
    "df_max = drought.groupby(['StateName', 'year', 'quarter'])[drought_cols].max()\n",
    "df_max.columns = [col + '_max' for col in df_max.columns]\n",
    "\n",
    "# Merge summaries\n",
    "drought_quarterly = pd.concat([df_mean, df_max], axis=1).reset_index()"
   ]
  },
  {
   "cell_type": "code",
   "execution_count": 13,
   "id": "0e7e29cb",
   "metadata": {},
   "outputs": [],
   "source": [
    "# change column names to be more readable\n",
    "drought_quarterly.columns = ['state', 'year', 'quarter'] + [col.replace(' (total percent land area)', '') for col in drought_quarterly.columns[3:]]"
   ]
  },
  {
   "cell_type": "code",
   "execution_count": 15,
   "id": "77c22276",
   "metadata": {},
   "outputs": [],
   "source": [
    "# Save the quarterly summary to a CSV file\n",
    "OUT_DIR = os.path.join(os.getcwd(), '../data/intermediate')\n",
    "\n",
    "drought_quarterly.to_csv(os.path.join(OUT_DIR, 'drought_quarterly.csv'), index=False)"
   ]
  }
 ],
 "metadata": {
  "kernelspec": {
   "display_name": "base",
   "language": "python",
   "name": "python3"
  },
  "language_info": {
   "codemirror_mode": {
    "name": "ipython",
    "version": 3
   },
   "file_extension": ".py",
   "mimetype": "text/x-python",
   "name": "python",
   "nbconvert_exporter": "python",
   "pygments_lexer": "ipython3",
   "version": "3.11.7"
  }
 },
 "nbformat": 4,
 "nbformat_minor": 5
}
