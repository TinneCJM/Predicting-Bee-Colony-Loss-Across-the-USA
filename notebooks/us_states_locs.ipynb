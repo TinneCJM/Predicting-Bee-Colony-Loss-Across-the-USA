{
 "cells": [
  {
   "cell_type": "code",
   "execution_count": 1,
   "metadata": {},
   "outputs": [],
   "source": [
    "import pandas as pd\n",
    "\n",
    "# Data for US states with latitude and longitude\n",
    "data = {\n",
    "    \"State\": [\n",
    "        \"Alabama\", \"Alaska\", \"Arizona\", \"Arkansas\", \"California\", \"Colorado\", \"Connecticut\",\n",
    "        \"Delaware\", \"Florida\", \"Georgia\", \"Hawaii\", \"Idaho\", \"Illinois\", \"Indiana\", \"Iowa\",\n",
    "        \"Kansas\", \"Kentucky\", \"Louisiana\", \"Maine\", \"Maryland\", \"Massachusetts\", \"Michigan\",\n",
    "        \"Minnesota\", \"Mississippi\", \"Missouri\", \"Montana\", \"Nebraska\", \"Nevada\", \"New Hampshire\",\n",
    "        \"New Jersey\", \"New Mexico\", \"New York\", \"North Carolina\", \"North Dakota\", \"Ohio\",\n",
    "        \"Oklahoma\", \"Oregon\", \"Pennsylvania\", \"Rhode Island\", \"South Carolina\", \"South Dakota\",\n",
    "        \"Tennessee\", \"Texas\", \"Utah\", \"Vermont\", \"Virginia\", \"Washington\", \"West Virginia\",\n",
    "        \"Wisconsin\", \"Wyoming\"\n",
    "    ],\n",
    "    \"Latitude\": [\n",
    "        32.806671, 61.370716, 33.729759, 34.969704, 36.116203, 39.059811, 41.597782,\n",
    "        39.318523, 27.766279, 33.040619, 20.902977, 44.068202, 40.633125, 39.849426, 42.011539,\n",
    "        38.526600, 37.668140, 31.169546, 45.367584, 39.045753, 42.407211, 44.182205,\n",
    "        46.392410, 32.741646, 38.456085, 46.921925, 41.125370, 38.313515, 43.452492,\n",
    "        40.298904, 34.840515, 42.165726, 35.630066, 47.528912, 40.388783,\n",
    "        35.565342, 44.572021, 40.590752, 41.680893, 33.856892, 44.299782,\n",
    "        35.747845, 31.054487, 39.320980, 44.045876, 37.769337, 47.400902, 38.491226,\n",
    "        44.268543, 42.755966\n",
    "    ],\n",
    "    \"Longitude\": [\n",
    "        -86.791130, -152.404419, -111.431221, -92.373123, -119.681564, -105.311104, -72.755371,\n",
    "        -75.507141, -81.686783, -83.643074, -156.207483, -114.742043, -89.398529, -86.258278, -93.210526,\n",
    "        -96.726486, -84.670067, -91.867805, -68.972168, -76.641273, -71.382439, -84.506836,\n",
    "        -94.636230, -89.678696, -92.288368, -110.454353, -98.268082, -117.055374, -71.563896,\n",
    "        -74.521011, -106.248482, -74.948051, -79.806419, -99.784012, -82.764915,\n",
    "        -96.928917, -122.070938, -77.209755, -71.511780, -80.945007, -99.438828,\n",
    "        -86.692345, -97.563461, -111.093735, -72.710686, -78.169968, -121.490494, -80.954456,\n",
    "        -89.616508, -107.302490\n",
    "    ]\n",
    "}\n",
    "\n",
    "# Create a DataFrame\n",
    "df = pd.DataFrame(data)"
   ]
  },
  {
   "cell_type": "code",
   "execution_count": 2,
   "metadata": {},
   "outputs": [],
   "source": [
    "# save to CSV\n",
    "df.to_csv('us_states_lat_long.csv', index=False)"
   ]
  }
 ],
 "metadata": {
  "kernelspec": {
   "display_name": "base",
   "language": "python",
   "name": "python3"
  },
  "language_info": {
   "codemirror_mode": {
    "name": "ipython",
    "version": 3
   },
   "file_extension": ".py",
   "mimetype": "text/x-python",
   "name": "python",
   "nbconvert_exporter": "python",
   "pygments_lexer": "ipython3",
   "version": "3.11.7"
  }
 },
 "nbformat": 4,
 "nbformat_minor": 2
}
