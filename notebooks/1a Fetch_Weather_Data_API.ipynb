{
 "cells": [
  {
   "cell_type": "markdown",
   "id": "ee5de39b-a35d-4b4e-a88d-ee296a586a3b",
   "metadata": {},
   "source": [
    "### Imports"
   ]
  },
  {
   "cell_type": "code",
   "execution_count": null,
   "id": "9f5ad2af-9556-4f71-992a-8377d6591a5a",
   "metadata": {},
   "outputs": [],
   "source": [
    "import requests\n",
    "import pandas as pd\n",
    "import os\n",
    "import numpy as np\n",
    "import time\n",
    "import sys\n",
    "\n",
    "import openmeteo_requests\n",
    "import requests_cache\n",
    "from retry_requests import retry\n",
    "\n",
    "sys.path.append(os.path.abspath('../utils'))\n",
    "import tinne_utils as tu"
   ]
  },
  {
   "cell_type": "markdown",
   "id": "135b70a0",
   "metadata": {},
   "source": [
    "## Notebook constants"
   ]
  },
  {
   "cell_type": "code",
   "execution_count": 19,
   "id": "0f87a0e5",
   "metadata": {},
   "outputs": [],
   "source": [
    "ITM_DIR = os.path.join(os.getcwd(), '../data/import')"
   ]
  },
  {
   "cell_type": "markdown",
   "id": "a2dcfcbb-0025-40c6-ae7a-1221ee608e5c",
   "metadata": {},
   "source": [
    "wind_speed_10m_max,weather_code,temperature_2m_mean,temperature_2m_max,temperature_2m_min,precipitation_hours,relative_humidity_2m_mean,relative_humidity_2m_max,relative_humidity_2m_min\n",
    "\n",
    "# 🌦 Weather Data Variables\n",
    "\n",
    "## 🌡 Temperature & Humidity  \n",
    "- **`temperature_2m`** → Air temperature measured **2 meters above ground** (°C).  \n",
    "- **`apparent_temperature`** → Feels-like temperature, adjusted for **wind and humidity** (°C).  \n",
    "- **`relative_humidity_2m`** → The **percentage** of moisture in the air at **2 meters height**.  \n",
    "\n",
    "## 🌧 Precipitation & Snow  \n",
    "- **`precipitation`** → Total precipitation (rain + snow) in **millimeters (mm)**.  \n",
    "- **`rain`** → Total **rainfall** (excluding snow) in **mm**.  \n",
    "- **`showers`** → **Intermittent, intense bursts of rain** that start and stop suddenly.  \n",
    "- **`snowfall`** → Total **snow accumulation** in **mm**.  \n",
    "- **`snow_depth`** → The depth of **snow on the ground** in **mm**.  \n",
    "\n",
    "## ☁️ Weather Conditions  \n",
    "- **`weathercode`** → A numerical code representing the **weather condition** (e.g., clear, fog,thunderstorms).  \n",
    "\n",
    "\n",
    "| Weather Code | Description |\n",
    "|-------------|------------|\n",
    "| 0  | Clear sky |\n",
    "| 1  | Mainly clear |\n",
    "| 2  | Partly cloudy |\n",
    "| 3  | Overcast |\n",
    "| 45 | Fog |\n",
    "| 48 | Depositing rime fog |\n",
    "| 51 | Light drizzle |\n",
    "| 53 | Moderate drizzle |\n",
    "| 55 | Heavy drizzle |\n",
    "| 56 | Light freezing drizzle |\n",
    "| 57 | Heavy freezing drizzle |\n",
    "| 61 | Light rain |\n",
    "| 63 | Moderate rain |\n",
    "| 65 | Heavy rain |\n",
    "| 66 | Light freezing rain |\n",
    "| 67 | Heavy freezing rain |\n",
    "| 71 | Light snow |\n",
    "| 73 | Moderate snow |\n",
    "| 75 | Heavy snow |\n",
    "| 77 | Snow grains |\n",
    "| 80 | Light rain showers |\n",
    "| 81 | Moderate rain showers |\n",
    "| 82 | Heavy rain showers |\n",
    "| 85 | Light snow showers |\n",
    "| 86 | Heavy snow showers |\n",
    "| 95 | Thunderstorm |\n",
    "| 96 | Thunderstorm with lig`time`** → The **timestamp** of the weather measurement.  \n",
    "- **`timezone`** → The **local timezone** used for time formatting.  \n",
    "\n",
    "---\n",
    "\n",
    "### 📌 Notes  \n",
    "- **Precipitation is measured in millimeters (mm).**  \n",
    "- **`showers` differ from `rain`** because they are **intermittent and localized**.  \n",
    "- **Temperature values are in degrees Celsius (°C).**  \n"
   ]
  },
  {
   "cell_type": "markdown",
   "id": "4f75228b-ee49-48d7-a608-9f602e69dfc8",
   "metadata": {},
   "source": [
    "### Request historial weather reports through API"
   ]
  },
  {
   "cell_type": "code",
   "execution_count": 20,
   "id": "aa0aa7ce",
   "metadata": {},
   "outputs": [
    {
     "name": "stderr",
     "output_type": "stream",
     "text": [
      "c:\\Users\\tinne\\anaconda3\\Lib\\site-packages\\numpy\\core\\fromnumeric.py:59: FutureWarning: 'DataFrame.swapaxes' is deprecated and will be removed in a future version. Please use 'DataFrame.transpose' instead.\n",
      "  return bound(*args, **kwds)\n"
     ]
    }
   ],
   "source": [
    "# Bee dataset contains US states information. Latitudes and longitudes are used to get weather data from Open Meteo API.\n",
    "states = pd.read_csv(os.path.join(ITM_DIR, 'us_states_lat_long.csv'))\n",
    "states.head()\n",
    "\n",
    "# rename states columns to state latitude and longitude\n",
    "states.rename(columns={\"State\": \"state\", \"Latitude\": \"latitude\", \"Longitude\": \"longitude\"}, inplace=True)\n",
    "\n",
    "locations = states[[\"latitude\", \"longitude\"]].drop_duplicates()\n",
    "\n",
    "# API is limited in how many requests can be made at once, so we split the locations into smaller chunks\n",
    "locations_split = np.array_split(locations, 6)"
   ]
  },
  {
   "cell_type": "code",
   "execution_count": null,
   "id": "94c83edd",
   "metadata": {},
   "outputs": [],
   "source": [
    "# Fetch weather data for each part with a delay of 15 minutes between requests\n",
    "weather_data_list = []\n",
    "for i, loc in enumerate(locations_split):\n",
    "    print(f\"Fetching weather data for part {i + 1}...\")\n",
    "    \n",
    "    # Fetch weather data for the current part\n",
    "    weather_data = tu.fetch_weather_data(loc)\n",
    "    weather_data_list.append(weather_data)\n",
    "    \n",
    "    # If not the last part, wait for 15 minutes before the next request\n",
    "    if i < len(locations_split) - 1:\n",
    "        print(\"Waiting for 15 minutes before the next request...\")\n",
    "        time.sleep(900)  # Wait for 15 minutes\n",
    "\n",
    "# Combine all weather data into one DataFrame\n",
    "weather_data_combined = pd.concat(weather_data_list, ignore_index=True)\n"
   ]
  },
  {
   "cell_type": "code",
   "execution_count": null,
   "id": "101298ee",
   "metadata": {},
   "outputs": [],
   "source": [
    "# save df's csv\n",
    "# df1.to_csv(\"data/import/Hourly_Weather_Data_part1.csv\", index=False)\n",
    "# df2.to_csv(\"data/import/Hourly_Weather_Data_part2.csv\", index=False)\n",
    "# df3.to_csv(\"data/import/Hourly_Weather_Data_part3.csv\", index=False)\n",
    "# df4.to_csv(\"data/import/Hourly_Weather_Data_part4.csv\", index=False)\n",
    "# df5.to_csv(\"data/import/Hourly_Weather_Data_part5.csv\", index=False)\n",
    "# df6.to_csv(\"data/import/Hourly_Weather_Data_part6.csv\", index=False)"
   ]
  }
 ],
 "metadata": {
  "kernelspec": {
   "display_name": "base",
   "language": "python",
   "name": "python3"
  },
  "language_info": {
   "codemirror_mode": {
    "name": "ipython",
    "version": 3
   },
   "file_extension": ".py",
   "mimetype": "text/x-python",
   "name": "python",
   "nbconvert_exporter": "python",
   "pygments_lexer": "ipython3",
   "version": "3.11.7"
  }
 },
 "nbformat": 4,
 "nbformat_minor": 5
}
