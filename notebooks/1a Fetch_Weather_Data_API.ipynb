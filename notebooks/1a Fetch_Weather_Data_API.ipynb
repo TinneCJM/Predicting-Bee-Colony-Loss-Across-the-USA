{
 "cells": [
  {
   "cell_type": "markdown",
   "id": "ee5de39b-a35d-4b4e-a88d-ee296a586a3b",
   "metadata": {},
   "source": [
    "<div style=\"background-color:#FCE205; padding:10px; border-radius:5px; color:black; font-weight:bold;\">\n",
    "    <h2>Importing weather data from Open Meteo API</h2>\n",
    "</div>"
   ]
  },
  {
   "cell_type": "code",
   "execution_count": null,
   "id": "9f5ad2af-9556-4f71-992a-8377d6591a5a",
   "metadata": {},
   "outputs": [],
   "source": [
    "# import required libraries\n",
    "import pandas as pd\n",
    "import os\n",
    "import numpy as np\n",
    "import time\n",
    "import sys\n",
    "\n",
    "sys.path.append(os.path.abspath('../utils'))\n",
    "import tinne_utils as tu"
   ]
  },
  {
   "cell_type": "markdown",
   "id": "4ed63067",
   "metadata": {},
   "source": [
    "<div style=\"background-color:#FCE205; padding:5px; border-radius:10px; color:black; font-weight:bold;\">\n",
    "    <h3>Variable description</h3>\n",
    "</div>"
   ]
  },
  {
   "cell_type": "markdown",
   "id": "a2dcfcbb-0025-40c6-ae7a-1221ee608e5c",
   "metadata": {},
   "source": [
    "- **`temperature_2m_mean`** → Mean daily air temperature at **2 meters above ground** (°C).  \n",
    "- **`temperature_2m_min`** → Minimum daily air temperature at **2 meters above ground** (°C).    \n",
    "- **`temperature_2m_max`** → Maximum daily air temperature at **2 meters above ground** (°C). \n",
    "- **`relative_humidity_2m_mean`** → Mean relative humidity at  **2 meters above ground** (%).  \n",
    "- **`relative_humidity_2m_min`** → Minimum relative humidity at **2 meters above ground** (%).    \n",
    "- **`relative_humidity_2m_max`** → Maximum relative humidity at **2 meters above ground** (%). \n",
    "\n",
    "- **`precipitation_hours`** → The number of hours with rain in **hours (h)**.  \n",
    "- **`wind_speed_10m_max`** → Maximum wind speed and gusts on a day in **km/h**.  \n",
    "\n",
    "- **`weathercode`** → The most severe **weather condition** on a given day.  \n",
    "\n",
    "| Weather Code | Description |\n",
    "|-------------|------------|\n",
    "| 0  | Clear sky |\n",
    "| 1  | Mainly clear |\n",
    "| 2  | Partly cloudy |\n",
    "| 3  | Overcast |\n",
    "| 51 | Light drizzle |\n",
    "| 53 | Moderate drizzle |\n",
    "| 55 | Heavy drizzle |\n",
    "| 56 | Light freezing drizzle |\n",
    "| 61 | Light rain |\n",
    "| 63 | Moderate rain |\n",
    "| 65 | Heavy rain |\n",
    "| 71 | Light snow |\n",
    "| 73 | Moderate snow |\n",
    "| 75 | Heavy snow |"
   ]
  },
  {
   "cell_type": "markdown",
   "id": "4f75228b-ee49-48d7-a608-9f602e69dfc8",
   "metadata": {},
   "source": [
    "<div style=\"background-color:#FCE205; padding:10px; border-radius:5px; color:black; font-weight:bold;\">\n",
    "    <h3>Assigning US states longitude and latitude for API calls</h3>\n",
    "</div>\n",
    "\n",
    "The latitudes and longitudes were obtained through ChatGPT"
   ]
  },
  {
   "cell_type": "code",
   "execution_count": 3,
   "id": "aa0aa7ce",
   "metadata": {},
   "outputs": [
    {
     "name": "stderr",
     "output_type": "stream",
     "text": [
      "c:\\Users\\tinne\\anaconda3\\Lib\\site-packages\\numpy\\core\\fromnumeric.py:59: FutureWarning: 'DataFrame.swapaxes' is deprecated and will be removed in a future version. Please use 'DataFrame.transpose' instead.\n",
      "  return bound(*args, **kwds)\n"
     ]
    }
   ],
   "source": [
    "# Bee dataset contains US states information. Latitudes and longitudes are used to get weather data from Open Meteo API.\n",
    "states = pd.DataFrame({\n",
    "    \"state\": [\n",
    "        \"Alabama\", \"Alaska\", \"Arizona\", \"Arkansas\", \"California\", \"Colorado\", \"Connecticut\",\n",
    "        \"Delaware\", \"Florida\", \"Georgia\", \"Hawaii\", \"Idaho\", \"Illinois\", \"Indiana\", \"Iowa\",\n",
    "        \"Kansas\", \"Kentucky\", \"Louisiana\", \"Maine\", \"Maryland\", \"Massachusetts\", \"Michigan\",\n",
    "        \"Minnesota\", \"Mississippi\", \"Missouri\", \"Montana\", \"Nebraska\", \"Nevada\", \"New Hampshire\",\n",
    "        \"New Jersey\", \"New Mexico\", \"New York\", \"North Carolina\", \"North Dakota\", \"Ohio\",\n",
    "        \"Oklahoma\", \"Oregon\", \"Pennsylvania\", \"Rhode Island\", \"South Carolina\", \"South Dakota\",\n",
    "        \"Tennessee\", \"Texas\", \"Utah\", \"Vermont\", \"Virginia\", \"Washington\", \"West Virginia\",\n",
    "        \"Wisconsin\", \"Wyoming\"\n",
    "    ],\n",
    "    \"latitude\": [\n",
    "        32.806671, 61.370716, 33.729759, 34.969704, 36.116203, 39.059811, 41.597782,\n",
    "        39.318523, 27.766279, 33.040619, 20.902977, 44.068202, 40.633125, 39.849426, 42.011539,\n",
    "        38.526600, 37.668140, 31.169546, 45.367584, 39.045753, 42.407211, 44.182205,\n",
    "        46.392410, 32.741646, 38.456085, 46.921925, 41.125370, 38.313515, 43.452492,\n",
    "        40.298904, 34.840515, 42.165726, 35.630066, 47.528912, 40.388783,\n",
    "        35.565342, 44.572021, 40.590752, 41.680893, 33.856892, 44.299782,\n",
    "        35.747845, 31.054487, 39.320980, 44.045876, 37.769337, 47.400902, 38.491226,\n",
    "        44.268543, 42.755966\n",
    "    ],\n",
    "    \"longitude\": [\n",
    "        -86.791130, -152.404419, -111.431221, -92.373123, -119.681564, -105.311104, -72.755371,\n",
    "        -75.507141, -81.686783, -83.643074, -156.207483, -114.742043, -89.398529, -86.258278, -93.210526,\n",
    "        -96.726486, -84.670067, -91.867805, -68.972168, -76.641273, -71.382439, -84.506836,\n",
    "        -94.636230, -89.678696, -92.288368, -110.454353, -98.268082, -117.055374, -71.563896,\n",
    "        -74.521011, -106.248482, -74.948051, -79.806419, -99.784012, -82.764915,\n",
    "        -96.928917, -122.070938, -77.209755, -71.511780, -80.945007, -99.438828,\n",
    "        -86.692345, -97.563461, -111.093735, -72.710686, -78.169968, -121.490494, -80.954456,\n",
    "        -89.616508, -107.302490\n",
    "    ]\n",
    "}\n",
    ")\n",
    "\n",
    "locations = states[[\"latitude\", \"longitude\"]].drop_duplicates()\n",
    "\n",
    "# API is limited in how many requests can be made at once, so we split the locations into smaller chunks\n",
    "locations_split = np.array_split(locations, 6)"
   ]
  },
  {
   "cell_type": "markdown",
   "id": "486b3815",
   "metadata": {},
   "source": [
    "<div style=\"background-color:#FCE205; padding:10px; border-radius:5px; color:black; font-weight:bold;\">\n",
    "    <h3>Open Meteo API calls</h3>\n",
    "</div>\n",
    "\n",
    "A limited number of API calls is allowed under free usage. API calls are performed in small chunks spread across time."
   ]
  },
  {
   "cell_type": "code",
   "execution_count": null,
   "id": "94c83edd",
   "metadata": {},
   "outputs": [],
   "source": [
    "# Fetch weather data for each part with a delay of 15 minutes between requests\n",
    "weather_data_list = []\n",
    "for i, loc in enumerate(locations_split):\n",
    "    print(f\"Fetching weather data for part {i + 1}...\")\n",
    "    \n",
    "    # Fetch weather data for the current part\n",
    "    weather_data = tu.fetch_weather_data(loc)\n",
    "    weather_data_list.append(weather_data)\n",
    "    \n",
    "    # If not the last part, wait for 15 minutes before the next request\n",
    "    if i < len(locations_split) - 1:\n",
    "        print(\"Waiting for 15 minutes before the next request...\")\n",
    "        time.sleep(900)  # Wait for 15 minutes\n",
    "\n",
    "# Combine all weather data into one DataFrame\n",
    "weather_data_combined = pd.concat(weather_data_list, ignore_index=True)\n"
   ]
  },
  {
   "cell_type": "code",
   "execution_count": null,
   "id": "101298ee",
   "metadata": {},
   "outputs": [],
   "source": [
    "# save df's csv\n",
    "# df1.to_csv(\"data/import/Hourly_Weather_Data_part1.csv\", index=False)\n",
    "# df2.to_csv(\"data/import/Hourly_Weather_Data_part2.csv\", index=False)\n",
    "# df3.to_csv(\"data/import/Hourly_Weather_Data_part3.csv\", index=False)\n",
    "# df4.to_csv(\"data/import/Hourly_Weather_Data_part4.csv\", index=False)\n",
    "# df5.to_csv(\"data/import/Hourly_Weather_Data_part5.csv\", index=False)\n",
    "# df6.to_csv(\"data/import/Hourly_Weather_Data_part6.csv\", index=False)"
   ]
  }
 ],
 "metadata": {
  "kernelspec": {
   "display_name": "base",
   "language": "python",
   "name": "python3"
  },
  "language_info": {
   "codemirror_mode": {
    "name": "ipython",
    "version": 3
   },
   "file_extension": ".py",
   "mimetype": "text/x-python",
   "name": "python",
   "nbconvert_exporter": "python",
   "pygments_lexer": "ipython3",
   "version": "3.11.7"
  }
 },
 "nbformat": 4,
 "nbformat_minor": 5
}
